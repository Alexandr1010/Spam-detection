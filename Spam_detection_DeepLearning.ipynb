{
 "cells": [
  {
   "cell_type": "markdown",
   "metadata": {},
   "source": [
    "### Spam detection with Deep Learning"
   ]
  },
  {
   "cell_type": "code",
   "execution_count": 747,
   "metadata": {},
   "outputs": [],
   "source": [
    "import numpy as np\n",
    "import pandas as pd\n",
    "import seaborn as sns\n",
    "import matplotlib.pyplot as plt\n",
    "import tensorflow.keras\n",
    "from sklearn.metrics import accuracy_score, classification_report, confusion_matrix, f1_score,precision_recall_curve, roc_curve,roc_auc_score"
   ]
  },
  {
   "cell_type": "code",
   "execution_count": 748,
   "metadata": {},
   "outputs": [],
   "source": [
    "data_spam=pd.read_csv('spam.csv',encoding = \"ISO-8859-1\")\n",
    "data_spam_original=data_spam.copy()"
   ]
  },
  {
   "cell_type": "code",
   "execution_count": 749,
   "metadata": {},
   "outputs": [],
   "source": [
    "#Remove unncecessary columns and see the final dataframe\n",
    "data_spam=data_spam[['v1','v2']]\n",
    "data_spam=data_spam.rename({'v1':'Spam or Ham','v2':'SMS message'},axis=1)"
   ]
  },
  {
   "cell_type": "code",
   "execution_count": 750,
   "metadata": {},
   "outputs": [
    {
     "data": {
      "text/html": [
       "<div>\n",
       "<style scoped>\n",
       "    .dataframe tbody tr th:only-of-type {\n",
       "        vertical-align: middle;\n",
       "    }\n",
       "\n",
       "    .dataframe tbody tr th {\n",
       "        vertical-align: top;\n",
       "    }\n",
       "\n",
       "    .dataframe thead th {\n",
       "        text-align: right;\n",
       "    }\n",
       "</style>\n",
       "<table border=\"1\" class=\"dataframe\">\n",
       "  <thead>\n",
       "    <tr style=\"text-align: right;\">\n",
       "      <th></th>\n",
       "      <th>Spam or Ham</th>\n",
       "      <th>SMS message</th>\n",
       "    </tr>\n",
       "  </thead>\n",
       "  <tbody>\n",
       "    <tr>\n",
       "      <th>0</th>\n",
       "      <td>ham</td>\n",
       "      <td>Go until jurong point, crazy.. Available only ...</td>\n",
       "    </tr>\n",
       "    <tr>\n",
       "      <th>1</th>\n",
       "      <td>ham</td>\n",
       "      <td>Ok lar... Joking wif u oni...</td>\n",
       "    </tr>\n",
       "    <tr>\n",
       "      <th>2</th>\n",
       "      <td>spam</td>\n",
       "      <td>Free entry in 2 a wkly comp to win FA Cup fina...</td>\n",
       "    </tr>\n",
       "    <tr>\n",
       "      <th>3</th>\n",
       "      <td>ham</td>\n",
       "      <td>U dun say so early hor... U c already then say...</td>\n",
       "    </tr>\n",
       "    <tr>\n",
       "      <th>4</th>\n",
       "      <td>ham</td>\n",
       "      <td>Nah I don't think he goes to usf, he lives aro...</td>\n",
       "    </tr>\n",
       "  </tbody>\n",
       "</table>\n",
       "</div>"
      ],
      "text/plain": [
       "  Spam or Ham                                        SMS message\n",
       "0         ham  Go until jurong point, crazy.. Available only ...\n",
       "1         ham                      Ok lar... Joking wif u oni...\n",
       "2        spam  Free entry in 2 a wkly comp to win FA Cup fina...\n",
       "3         ham  U dun say so early hor... U c already then say...\n",
       "4         ham  Nah I don't think he goes to usf, he lives aro..."
      ]
     },
     "execution_count": 750,
     "metadata": {},
     "output_type": "execute_result"
    }
   ],
   "source": [
    "data_spam.head()"
   ]
  },
  {
   "cell_type": "code",
   "execution_count": 751,
   "metadata": {},
   "outputs": [],
   "source": [
    "from sklearn.preprocessing import LabelBinarizer"
   ]
  },
  {
   "cell_type": "code",
   "execution_count": 752,
   "metadata": {},
   "outputs": [],
   "source": [
    "lb=LabelBinarizer()\n",
    "data_spam['Spam or Ham']=lb.fit_transform(data_spam['Spam or Ham'])"
   ]
  },
  {
   "cell_type": "code",
   "execution_count": 753,
   "metadata": {},
   "outputs": [
    {
     "data": {
      "text/plain": [
       "array(['ham', 'spam'], dtype='<U4')"
      ]
     },
     "execution_count": 753,
     "metadata": {},
     "output_type": "execute_result"
    }
   ],
   "source": [
    "#See binarized classes - Spam or Ham\n",
    "lb.classes_"
   ]
  },
  {
   "cell_type": "code",
   "execution_count": 754,
   "metadata": {},
   "outputs": [
    {
     "data": {
      "text/plain": [
       "(5572, 2)"
      ]
     },
     "execution_count": 754,
     "metadata": {},
     "output_type": "execute_result"
    }
   ],
   "source": [
    "data_spam.shape"
   ]
  },
  {
   "cell_type": "code",
   "execution_count": 755,
   "metadata": {},
   "outputs": [],
   "source": [
    "#Remove dots from the messages\n",
    "data_spam['SMS message']=data_spam[['SMS message']].replace('\\.','', regex=True)"
   ]
  },
  {
   "cell_type": "code",
   "execution_count": 756,
   "metadata": {
    "scrolled": true
   },
   "outputs": [
    {
     "data": {
      "text/plain": [
       "3498    I hope you arnt pissed off but id would really...\n",
       "Name: SMS message, dtype: object"
      ]
     },
     "execution_count": 756,
     "metadata": {},
     "output_type": "execute_result"
    }
   ],
   "source": [
    "#Check som random message\n",
    "data_spam['SMS message'].iloc[np.random.randint(0,5571,1)]"
   ]
  },
  {
   "cell_type": "code",
   "execution_count": 757,
   "metadata": {},
   "outputs": [],
   "source": [
    "#Libraries for Deep Learning\n",
    "from tensorflow import keras\n",
    "from tensorflow.keras.preprocessing import sequence\n",
    "from tensorflow.keras.models import Sequential\n",
    "from tensorflow.keras.layers import Dense, Embedding, Dropout\n",
    "from tensorflow.keras.layers import SimpleRNN\n",
    "from tensorflow.keras.datasets import imdb\n",
    "from tensorflow.keras import initializers"
   ]
  },
  {
   "cell_type": "code",
   "execution_count": 758,
   "metadata": {},
   "outputs": [
    {
     "data": {
      "text/plain": [
       "15.418700646087581"
      ]
     },
     "execution_count": 758,
     "metadata": {},
     "output_type": "execute_result"
    }
   ],
   "source": [
    "#Compute number of words in a message\n",
    "n_words_in_message=[]\n",
    "for i in range(len(data_spam)):\n",
    "    n_words_in_message.append(len(data_spam.loc[i,'SMS message'].split()))\n",
    "np.mean(n_words_in_message)"
   ]
  },
  {
   "cell_type": "code",
   "execution_count": 759,
   "metadata": {},
   "outputs": [],
   "source": [
    "#Important parameters\n",
    "max_features = 5000  # This is used in loading the data, picks the most common (max_features) words\n",
    "maxlen = 25  # maximum length of a sequence - truncate after this\n",
    "batch_size = 32"
   ]
  },
  {
   "cell_type": "code",
   "execution_count": 760,
   "metadata": {},
   "outputs": [
    {
     "name": "stdout",
     "output_type": "stream",
     "text": [
      "Elements in sequences 82517  Words in total 85913\n"
     ]
    }
   ],
   "source": [
    "#check merging in one text file\n",
    "text=['']\n",
    "for i in range(len(data_spam)):\n",
    "    text[0]+=' '+data_spam.loc[i,'SMS message']\n",
    "tokenizer = Tokenizer(num_words=5000)\n",
    "tokenizer.fit_on_texts(text)\n",
    "sequences = tokenizer.texts_to_sequences(text)[0]\n",
    "print('Elements in sequences',len(sequences),' Words in total',len(text[0].split()))"
   ]
  },
  {
   "cell_type": "code",
   "execution_count": 761,
   "metadata": {},
   "outputs": [],
   "source": [
    "#check understanding\n",
    "#list_1=tokenizer.texts_to_sequences(data_spam.loc[i,'SMS message'])\n",
    "#list_2=[]\n",
    "#list_1\n",
    "#for i in range(len(list_1)):\n",
    "#    try:\n",
    "#        list_2.append(list_1[i][0])\n",
    "#    except:\n",
    "#        continue"
   ]
  },
  {
   "cell_type": "code",
   "execution_count": 762,
   "metadata": {},
   "outputs": [
    {
     "data": {
      "text/plain": [
       "110"
      ]
     },
     "execution_count": 762,
     "metadata": {},
     "output_type": "execute_result"
    }
   ],
   "source": [
    "X_data=[]\n",
    "for i in range(len(data_spam)):\n",
    "    convertion_to_int_1=tokenizer.texts_to_sequences(data_spam.loc[i,'SMS message'])#makes a list of lists\n",
    "    convertion_to_int_2=[]\n",
    "    for i in range(len(convertion_to_int_1)):\n",
    "        try:\n",
    "            convertion_to_int_2.append(convertion_to_int_1[i][0])\n",
    "        except:\n",
    "            continue\n",
    "    X_data.append(convertion_to_int_2)\n",
    "X_data=np.array(X_data,dtype='object')\n",
    "len(X_data[5])"
   ]
  },
  {
   "cell_type": "code",
   "execution_count": 763,
   "metadata": {},
   "outputs": [
    {
     "data": {
      "text/plain": [
       "0    0.865937\n",
       "1    0.134063\n",
       "Name: Spam or Ham, dtype: float64"
      ]
     },
     "execution_count": 763,
     "metadata": {},
     "output_type": "execute_result"
    }
   ],
   "source": [
    "data_spam['Spam or Ham'].value_counts(normalize=True)"
   ]
  },
  {
   "cell_type": "code",
   "execution_count": 764,
   "metadata": {},
   "outputs": [],
   "source": [
    "y_data=data_spam['Spam or Ham']"
   ]
  },
  {
   "cell_type": "code",
   "execution_count": 765,
   "metadata": {},
   "outputs": [],
   "source": [
    "from sklearn.model_selection import StratifiedShuffleSplit\n",
    "sss=StratifiedShuffleSplit(n_splits=1,test_size=0.3,random_state=14)"
   ]
  },
  {
   "cell_type": "code",
   "execution_count": 766,
   "metadata": {},
   "outputs": [],
   "source": [
    "#Stratified Train test split\n",
    "train_ind, test_ind=next(sss.split(X_data, y_data))\n",
    "X_train=X_data[train_ind]\n",
    "X_test=X_data[test_ind]\n",
    "y_train=y_data[train_ind]\n",
    "y_test=y_data[test_ind]"
   ]
  },
  {
   "cell_type": "code",
   "execution_count": 767,
   "metadata": {},
   "outputs": [
    {
     "data": {
      "text/plain": [
       "0    0.865897\n",
       "1    0.134103\n",
       "Name: Spam or Ham, dtype: float64"
      ]
     },
     "execution_count": 767,
     "metadata": {},
     "output_type": "execute_result"
    }
   ],
   "source": [
    "y_train.value_counts(normalize=True)"
   ]
  },
  {
   "cell_type": "code",
   "execution_count": 768,
   "metadata": {},
   "outputs": [
    {
     "name": "stdout",
     "output_type": "stream",
     "text": [
      "x_train shape: (3900, 25)\n",
      "x_test shape: (1672, 25)\n"
     ]
    }
   ],
   "source": [
    "#Engenieering the sequences\n",
    "X_train = sequence.pad_sequences(X_train, maxlen=maxlen)\n",
    "X_test = sequence.pad_sequences(X_test, maxlen=maxlen)\n",
    "print('x_train shape:', X_train.shape)\n",
    "print('x_test shape:', X_test.shape)"
   ]
  },
  {
   "cell_type": "code",
   "execution_count": 920,
   "metadata": {},
   "outputs": [
    {
     "data": {
      "text/plain": [
       "(25,)"
      ]
     },
     "execution_count": 920,
     "metadata": {},
     "output_type": "execute_result"
    }
   ],
   "source": [
    "#example of the sequence\n",
    "X_train[123,:].shape"
   ]
  },
  {
   "cell_type": "code",
   "execution_count": 770,
   "metadata": {},
   "outputs": [
    {
     "data": {
      "text/plain": [
       "(1672, 25)"
      ]
     },
     "execution_count": 770,
     "metadata": {},
     "output_type": "execute_result"
    }
   ],
   "source": [
    "X_test.shape"
   ]
  },
  {
   "cell_type": "markdown",
   "metadata": {},
   "source": [
    "### Finally I can build a recurrent neural network"
   ]
  },
  {
   "cell_type": "code",
   "execution_count": 771,
   "metadata": {},
   "outputs": [
    {
     "data": {
      "text/plain": [
       "(25,)"
      ]
     },
     "execution_count": 771,
     "metadata": {},
     "output_type": "execute_result"
    }
   ],
   "source": [
    "X_train.shape[1:]"
   ]
  },
  {
   "cell_type": "code",
   "execution_count": 772,
   "metadata": {},
   "outputs": [],
   "source": [
    "rnn_hidden_dim = 7\n",
    "word_embedding_dim = 50\n",
    "model_rnn = Sequential()\n",
    "model_rnn.add(Embedding(max_features, word_embedding_dim))  #This layer takes each integer in the sequence\n",
    "model_rnn.add(SimpleRNN(rnn_hidden_dim,\n",
    "                    kernel_initializer=initializers.RandomNormal(stddev=0.001),\n",
    "                    recurrent_initializer=initializers.Identity(gain=1.0),\n",
    "                    activation='relu',\n",
    "                    input_shape=X_train.shape[1:]))\n",
    "\n",
    "model_rnn.add(Dense(1, activation='sigmoid'))"
   ]
  },
  {
   "cell_type": "code",
   "execution_count": 773,
   "metadata": {},
   "outputs": [
    {
     "name": "stdout",
     "output_type": "stream",
     "text": [
      "Model: \"sequential_11\"\n",
      "_________________________________________________________________\n",
      "Layer (type)                 Output Shape              Param #   \n",
      "=================================================================\n",
      "embedding_11 (Embedding)     (None, None, 50)          250000    \n",
      "_________________________________________________________________\n",
      "simple_rnn_11 (SimpleRNN)    (None, 7)                 406       \n",
      "_________________________________________________________________\n",
      "dense_12 (Dense)             (None, 1)                 8         \n",
      "=================================================================\n",
      "Total params: 250,414\n",
      "Trainable params: 250,414\n",
      "Non-trainable params: 0\n",
      "_________________________________________________________________\n"
     ]
    }
   ],
   "source": [
    "model_rnn.summary()"
   ]
  },
  {
   "cell_type": "code",
   "execution_count": 1006,
   "metadata": {},
   "outputs": [],
   "source": [
    "#Compiling the mode;\n",
    "rmsprop = keras.optimizers.Adam(learning_rate = .005)\n",
    "\n",
    "model_rnn.compile(loss='binary_crossentropy',\n",
    "              optimizer=rmsprop,\n",
    "              metrics=['accuracy'])"
   ]
  },
  {
   "cell_type": "code",
   "execution_count": 1007,
   "metadata": {},
   "outputs": [
    {
     "data": {
      "text/plain": [
       "<tensorflow.python.keras.callbacks.History at 0x295f2923910>"
      ]
     },
     "execution_count": 1007,
     "metadata": {},
     "output_type": "execute_result"
    }
   ],
   "source": [
    "model_rnn.fit(X_train, y_train,\n",
    "          batch_size=batch_size,\n",
    "          epochs=40,\n",
    "          validation_data=(X_test, y_test),\n",
    "             shuffle=True,\n",
    "             verbose=0)"
   ]
  },
  {
   "cell_type": "code",
   "execution_count": 1008,
   "metadata": {},
   "outputs": [
    {
     "name": "stdout",
     "output_type": "stream",
     "text": [
      "53/53 [==============================] - 0s 2ms/step - loss: 0.1274 - accuracy: 0.9659\n",
      "Performance of the model\n",
      " Validation set: Loss is 0.1274, accuracy is 0.9659\n"
     ]
    }
   ],
   "source": [
    "scores=model_rnn.evaluate(X_test,y_test)\n",
    "print('Performance of the model\\n Validation set: Loss is {:.4f}, accuracy is {:.4f}'.format(scores[0],scores[1]) )"
   ]
  },
  {
   "cell_type": "code",
   "execution_count": 1009,
   "metadata": {},
   "outputs": [
    {
     "data": {
      "text/plain": [
       "1672"
      ]
     },
     "execution_count": 1009,
     "metadata": {},
     "output_type": "execute_result"
    }
   ],
   "source": [
    "#Prediction check\n",
    "y_pred=model_rnn.predict(X_test)\n",
    "len(y_pred)"
   ]
  },
  {
   "cell_type": "code",
   "execution_count": 1011,
   "metadata": {},
   "outputs": [],
   "source": [
    "y_pred_2=model_rnn.predict_classes(X_test)"
   ]
  },
  {
   "cell_type": "code",
   "execution_count": 1012,
   "metadata": {},
   "outputs": [
    {
     "data": {
      "text/plain": [
       "0.8619854721549636"
      ]
     },
     "execution_count": 1012,
     "metadata": {},
     "output_type": "execute_result"
    }
   ],
   "source": [
    "f1_score(y_test,y_pred_2)"
   ]
  },
  {
   "cell_type": "code",
   "execution_count": 1013,
   "metadata": {},
   "outputs": [
    {
     "name": "stdout",
     "output_type": "stream",
     "text": [
      "              precision    recall  f1-score   support\n",
      "\n",
      "           0       0.97      0.99      0.98      1448\n",
      "           1       0.94      0.79      0.86       224\n",
      "\n",
      "    accuracy                           0.97      1672\n",
      "   macro avg       0.96      0.89      0.92      1672\n",
      "weighted avg       0.97      0.97      0.96      1672\n",
      "\n"
     ]
    }
   ],
   "source": [
    "print(classification_report(y_test,y_pred_2))"
   ]
  },
  {
   "cell_type": "code",
   "execution_count": 1020,
   "metadata": {},
   "outputs": [
    {
     "name": "stdout",
     "output_type": "stream",
     "text": [
      "Label classes:\n",
      "Class 0  :  ham\n",
      "Class 1  :  spam\n"
     ]
    },
    {
     "data": {
      "text/plain": [
       "Text(0.5, 1.0, 'Confusion matrix of SPAM SMS detection with neural networks')"
      ]
     },
     "execution_count": 1020,
     "metadata": {},
     "output_type": "execute_result"
    },
    {
     "data": {
      "image/png": "[encoded data removed]",
      "text/plain": [
       "<Figure size 432x432 with 2 Axes>"
      ]
     },
     "metadata": {},
     "output_type": "display_data"
    }
   ],
   "source": [
    "#Determine finally the confusion matrix and plot it\n",
    "conf_matrix=confusion_matrix(y_test,y_pred_2)\n",
    "print('Label classes:')\n",
    "for i in range(len(lb.classes_)):\n",
    "    print('Class',i,' : ',lb.classes_[i])\n",
    "_, ax = plt.subplots(figsize=(6,6))\n",
    "ax=sns.heatmap(conf_matrix,cmap=\"YlGnBu\",annot=True, fmt='d',annot_kws={\"size\": 25, \"weight\": \"bold\"})\n",
    "ax.set_title('Confusion matrix of SPAM SMS detection with neural networks',fontsize=18)"
   ]
  },
  {
   "cell_type": "code",
   "execution_count": 1015,
   "metadata": {},
   "outputs": [
    {
     "data": {
      "image/png": "[encoded data removed]",
      "text/plain": [
       "<Figure size 432x288 with 1 Axes>"
      ]
     },
     "metadata": {},
     "output_type": "display_data"
    }
   ],
   "source": [
    "precision, recall,_=precision_recall_curve(y_test,y_pred)\n",
    "#Preciosion recall curve\n",
    "sns.set_context('talk')\n",
    "sns.set_style('dark')\n",
    "plt.plot(recall,precision)\n",
    "plt.plot([0, 1], [1, 0], 'k--', linewidth=1)  # roc curve for random model\n",
    "plt.title('Precision recall curve for Deep Learning model on Spam detection',fontsize=14)\n",
    "plt.xlabel('Recall')\n",
    "plt.ylabel('Precision')\n",
    "plt.grid(True)"
   ]
  },
  {
   "cell_type": "code",
   "execution_count": 1016,
   "metadata": {},
   "outputs": [
    {
     "data": {
      "text/plain": [
       "[(-0.01, 1.01),\n",
       " (-0.01, 1.01),\n",
       " Text(0.5, 0, 'False positive rates'),\n",
       " Text(0, 0.5, 'True positive rates')]"
      ]
     },
     "execution_count": 1016,
     "metadata": {},
     "output_type": "execute_result"
    },
    {
     "data": {
      "image/png": "[encoded data removed]",
      "text/plain": [
       "<Figure size 360x360 with 1 Axes>"
      ]
     },
     "metadata": {},
     "output_type": "display_data"
    }
   ],
   "source": [
    "#ROC AUC curve\n",
    "fpr, tpr, _ = roc_curve(y_test, y_pred)\n",
    "fig, ax = plt.subplots(figsize=(5, 5))\n",
    "ax.plot(fpr, tpr, 'k-')\n",
    "ax.plot([0, 1], [0, 1], 'k--', linewidth=.5)  # roc curve for random model\n",
    "ax.grid(True)\n",
    "ax.set_title('ROC Curve for Deep Learning model on Spam detection', fontsize=14)\n",
    "ax.set(xlim=[-0.01, 1.01], ylim=[-0.01, 1.01],xlabel='False positive rates',ylabel='True positive rates')"
   ]
  },
  {
   "cell_type": "markdown",
   "metadata": {},
   "source": [
    "### Let's predict something"
   ]
  },
  {
   "cell_type": "code",
   "execution_count": 1017,
   "metadata": {},
   "outputs": [],
   "source": [
    "# I put a similar spam email\n",
    "#y_pred_2.shape\n",
    "well_predicted_spam_message_indices=y_test[(y_pred_2.reshape(len(y_test))==1)&(y_test==1)].index\n",
    "# I show some spam message\n",
    "some_spam_message=str(data_spam.iloc[well_predicted_spam_message_indices[np.random.randint(0,100,1)],1].values[0])\n",
    "#If I need to copy the message ----->\n",
    "#some_spam_message='I have investment funds worth Twenty Seven Million Five Hundred Thousand United State Dollar ($27.500.000.00 ) and I need a trusted investment Manager/Partner because of my current refugee status'"
   ]
  },
  {
   "cell_type": "code",
   "execution_count": 1018,
   "metadata": {},
   "outputs": [],
   "source": [
    "def convert_message_to_int_list(message):\n",
    "    convertion_to_int_1=tokenizer.texts_to_sequences(message)#makes a list of lists\n",
    "    convertion_to_int_2=[]\n",
    "    for i in range(len(convertion_to_int_1)):\n",
    "        try:\n",
    "            convertion_to_int_2.append(convertion_to_int_1[i][0])\n",
    "        except:\n",
    "            continue\n",
    "    convertion_to_int_2=np.array(convertion_to_int_2)\n",
    "    return convertion_to_int_2\n",
    "some_spam_message2=convert_message_to_int_list(some_spam_message)\n",
    "some_spam_message2=some_spam_message2.reshape(1,len(some_spam_message2))\n",
    "some_spam_message2=sequence.pad_sequences(some_spam_message2,maxlen=maxlen)"
   ]
  },
  {
   "cell_type": "code",
   "execution_count": 1019,
   "metadata": {
    "scrolled": true
   },
   "outputs": [
    {
     "name": "stdout",
     "output_type": "stream",
     "text": [
      "Ever thought about living a good life with a perfect partner? Just txt back NAME and AGE to join the mobile community (100p/SMS)\n",
      "\n",
      "My spam filter says it is spam\n"
     ]
    },
    {
     "name": "stderr",
     "output_type": "stream",
     "text": [
      "C:\\Users\\AlexB\\anaconda3\\lib\\site-packages\\tensorflow\\python\\keras\\engine\\sequential.py:455: UserWarning: `model.predict_classes()` is deprecated and will be removed after 2021-01-01. Please use instead:* `np.argmax(model.predict(x), axis=-1)`,   if your model does multi-class classification   (e.g. if it uses a `softmax` last-layer activation).* `(model.predict(x) > 0.5).astype(\"int32\")`,   if your model does binary classification   (e.g. if it uses a `sigmoid` last-layer activation).\n",
      "  warnings.warn('`model.predict_classes()` is deprecated and '\n"
     ]
    }
   ],
   "source": [
    "print(some_spam_message)\n",
    "print('\\nMy spam filter says it is '+lb.classes_[model_rnn.predict_classes(some_spam_message2)[0,0]])"
   ]
  }
 ],
 "metadata": {
  "kernelspec": {
   "display_name": "Python 3",
   "language": "python",
   "name": "python3"
  },
  "language_info": {
   "codemirror_mode": {
    "name": "ipython",
    "version": 3
   },
   "file_extension": ".py",
   "mimetype": "text/x-python",
   "name": "python",
   "nbconvert_exporter": "python",
   "pygments_lexer": "ipython3",
   "version": "3.8.5"
  }
 },
 "nbformat": 4,
 "nbformat_minor": 4
}
