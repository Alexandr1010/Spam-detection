{
 "cells": [
  {
   "cell_type": "markdown",
   "metadata": {},
   "source": [
    "### Spam detection with Deep Learning"
   ]
  },
  {
   "cell_type": "code",
   "execution_count": 287,
   "metadata": {},
   "outputs": [],
   "source": [
    "import numpy as np\n",
    "import pandas as pd\n",
    "import seaborn as sns\n",
    "import matplotlib.pyplot as plt\n",
    "import tensorflow.keras\n",
    "from sklearn.metrics import accuracy_score, classification_report, confusion_matrix, f1_score,precision_recall_curve, roc_curve,roc_auc_score"
   ]
  },
  {
   "cell_type": "code",
   "execution_count": 49,
   "metadata": {},
   "outputs": [],
   "source": [
    "data_spam=pd.read_csv('spam.csv',encoding = \"ISO-8859-1\")\n",
    "data_spam_original=data_spam.copy()"
   ]
  },
  {
   "cell_type": "code",
   "execution_count": 50,
   "metadata": {},
   "outputs": [],
   "source": [
    "#Remove unncecessary columns and see the final dataframe\n",
    "data_spam=data_spam[['v1','v2']]\n",
    "data_spam=data_spam.rename({'v1':'Spam or Ham','v2':'SMS message'},axis=1)"
   ]
  },
  {
   "cell_type": "code",
   "execution_count": 51,
   "metadata": {},
   "outputs": [
    {
     "data": {
      "text/html": [
       "<div>\n",
       "<style scoped>\n",
       "    .dataframe tbody tr th:only-of-type {\n",
       "        vertical-align: middle;\n",
       "    }\n",
       "\n",
       "    .dataframe tbody tr th {\n",
       "        vertical-align: top;\n",
       "    }\n",
       "\n",
       "    .dataframe thead th {\n",
       "        text-align: right;\n",
       "    }\n",
       "</style>\n",
       "<table border=\"1\" class=\"dataframe\">\n",
       "  <thead>\n",
       "    <tr style=\"text-align: right;\">\n",
       "      <th></th>\n",
       "      <th>Spam or Ham</th>\n",
       "      <th>SMS message</th>\n",
       "    </tr>\n",
       "  </thead>\n",
       "  <tbody>\n",
       "    <tr>\n",
       "      <th>0</th>\n",
       "      <td>ham</td>\n",
       "      <td>Go until jurong point, crazy.. Available only ...</td>\n",
       "    </tr>\n",
       "    <tr>\n",
       "      <th>1</th>\n",
       "      <td>ham</td>\n",
       "      <td>Ok lar... Joking wif u oni...</td>\n",
       "    </tr>\n",
       "    <tr>\n",
       "      <th>2</th>\n",
       "      <td>spam</td>\n",
       "      <td>Free entry in 2 a wkly comp to win FA Cup fina...</td>\n",
       "    </tr>\n",
       "    <tr>\n",
       "      <th>3</th>\n",
       "      <td>ham</td>\n",
       "      <td>U dun say so early hor... U c already then say...</td>\n",
       "    </tr>\n",
       "    <tr>\n",
       "      <th>4</th>\n",
       "      <td>ham</td>\n",
       "      <td>Nah I don't think he goes to usf, he lives aro...</td>\n",
       "    </tr>\n",
       "  </tbody>\n",
       "</table>\n",
       "</div>"
      ],
      "text/plain": [
       "  Spam or Ham                                        SMS message\n",
       "0         ham  Go until jurong point, crazy.. Available only ...\n",
       "1         ham                      Ok lar... Joking wif u oni...\n",
       "2        spam  Free entry in 2 a wkly comp to win FA Cup fina...\n",
       "3         ham  U dun say so early hor... U c already then say...\n",
       "4         ham  Nah I don't think he goes to usf, he lives aro..."
      ]
     },
     "execution_count": 51,
     "metadata": {},
     "output_type": "execute_result"
    }
   ],
   "source": [
    "data_spam.head()"
   ]
  },
  {
   "cell_type": "code",
   "execution_count": 52,
   "metadata": {},
   "outputs": [],
   "source": [
    "from sklearn.preprocessing import LabelBinarizer"
   ]
  },
  {
   "cell_type": "code",
   "execution_count": 53,
   "metadata": {},
   "outputs": [],
   "source": [
    "lb=LabelBinarizer()\n",
    "data_spam['Spam or Ham']=lb.fit_transform(data_spam['Spam or Ham'])"
   ]
  },
  {
   "cell_type": "code",
   "execution_count": 54,
   "metadata": {},
   "outputs": [
    {
     "data": {
      "text/plain": [
       "array(['ham', 'spam'], dtype='<U4')"
      ]
     },
     "execution_count": 54,
     "metadata": {},
     "output_type": "execute_result"
    }
   ],
   "source": [
    "#See binarized classes - Spam or Ham\n",
    "lb.classes_"
   ]
  },
  {
   "cell_type": "code",
   "execution_count": 72,
   "metadata": {},
   "outputs": [
    {
     "data": {
      "text/plain": [
       "(5572, 2)"
      ]
     },
     "execution_count": 72,
     "metadata": {},
     "output_type": "execute_result"
    }
   ],
   "source": [
    "data_spam.shape"
   ]
  },
  {
   "cell_type": "code",
   "execution_count": 64,
   "metadata": {},
   "outputs": [],
   "source": [
    "#Remove dots from the messages\n",
    "data_spam['SMS message']=data_spam[['SMS message']].replace('\\.','', regex=True)"
   ]
  },
  {
   "cell_type": "code",
   "execution_count": 74,
   "metadata": {
    "scrolled": true
   },
   "outputs": [
    {
     "data": {
      "text/plain": [
       "4250    Omg Joanna is freaking me out She's looked thr...\n",
       "Name: SMS message, dtype: object"
      ]
     },
     "execution_count": 74,
     "metadata": {},
     "output_type": "execute_result"
    }
   ],
   "source": [
    "#Check som random message\n",
    "data_spam['SMS message'].iloc[np.random.randint(0,5571,1)]"
   ]
  },
  {
   "cell_type": "code",
   "execution_count": 75,
   "metadata": {},
   "outputs": [],
   "source": [
    "from tensorflow import keras\n",
    "from tensorflow.keras.preprocessing import sequence\n",
    "from tensorflow.keras.models import Sequential\n",
    "from tensorflow.keras.layers import Dense, Embedding\n",
    "from tensorflow.keras.layers import SimpleRNN\n",
    "from tensorflow.keras.datasets import imdb\n",
    "from tensorflow.keras import initializers"
   ]
  },
  {
   "cell_type": "code",
   "execution_count": 78,
   "metadata": {},
   "outputs": [
    {
     "data": {
      "text/plain": [
       "15.418700646087581"
      ]
     },
     "execution_count": 78,
     "metadata": {},
     "output_type": "execute_result"
    }
   ],
   "source": [
    "#Compute number of words in a message\n",
    "n_words_in_message=[]\n",
    "for i in range(len(data_spam)):\n",
    "    n_words_in_message.append(len(data_spam.loc[i,'SMS message'].split()))\n",
    "np.mean(n_words_in_message)"
   ]
  },
  {
   "cell_type": "code",
   "execution_count": 79,
   "metadata": {},
   "outputs": [],
   "source": [
    "#Important parameters\n",
    "max_features = 5000  # This is used in loading the data, picks the most common (max_features) words\n",
    "maxlen = 15  # maximum length of a sequence - truncate after this\n",
    "batch_size = 32"
   ]
  },
  {
   "cell_type": "code",
   "execution_count": 131,
   "metadata": {},
   "outputs": [
    {
     "name": "stdout",
     "output_type": "stream",
     "text": [
      "Elements in sequences 82517  Words in total 85913\n"
     ]
    }
   ],
   "source": [
    "#check merging in one text file\n",
    "text=['']\n",
    "for i in range(len(data_spam)):\n",
    "    text[0]+=' '+data_spam.loc[i,'SMS message']\n",
    "tokenizer = Tokenizer(num_words=5000)\n",
    "tokenizer.fit_on_texts(text)\n",
    "sequences = tokenizer.texts_to_sequences(text)[0]\n",
    "print('Elements in sequences',len(sequences),' Words in total',len(text[0].split()))"
   ]
  },
  {
   "cell_type": "code",
   "execution_count": 209,
   "metadata": {},
   "outputs": [],
   "source": [
    "#check understanding\n",
    "list_1=tokenizer.texts_to_sequences(data_spam.loc[i,'SMS message'])\n",
    "list_2=[]\n",
    "list_1\n",
    "for i in range(len(list_1)):\n",
    "    try:\n",
    "        list_2.append(list_1[i][0])\n",
    "    except:\n",
    "        continue"
   ]
  },
  {
   "cell_type": "code",
   "execution_count": 165,
   "metadata": {},
   "outputs": [
    {
     "data": {
      "text/plain": [
       "110"
      ]
     },
     "execution_count": 165,
     "metadata": {},
     "output_type": "execute_result"
    }
   ],
   "source": [
    "X_data=[]\n",
    "for i in range(len(data_spam)):\n",
    "    convertion_to_int_1=tokenizer.texts_to_sequences(data_spam.loc[i,'SMS message'])#makes a list of lists\n",
    "    convertion_to_int_2=[]\n",
    "    for i in range(len(convertion_to_int_1)):\n",
    "        try:\n",
    "            convertion_to_int_2.append(convertion_to_int_1[i][0])\n",
    "        except:\n",
    "            continue\n",
    "    X_data.append(convertion_to_int_2)\n",
    "X_data=np.array(X_data,dtype='object')\n",
    "len(X_data[5])"
   ]
  },
  {
   "cell_type": "code",
   "execution_count": 248,
   "metadata": {},
   "outputs": [
    {
     "data": {
      "text/plain": [
       "0    0.865937\n",
       "1    0.134063\n",
       "Name: Spam or Ham, dtype: float64"
      ]
     },
     "execution_count": 248,
     "metadata": {},
     "output_type": "execute_result"
    }
   ],
   "source": [
    "data_spam['Spam or Ham'].value_counts(normalize=True)"
   ]
  },
  {
   "cell_type": "code",
   "execution_count": 249,
   "metadata": {},
   "outputs": [],
   "source": [
    "y_data=data_spam['Spam or Ham']"
   ]
  },
  {
   "cell_type": "code",
   "execution_count": 250,
   "metadata": {},
   "outputs": [],
   "source": [
    "from sklearn.model_selection import StratifiedShuffleSplit\n",
    "sss=StratifiedShuffleSplit(n_splits=1,test_size=0.3,random_state=14)"
   ]
  },
  {
   "cell_type": "code",
   "execution_count": 251,
   "metadata": {},
   "outputs": [],
   "source": [
    "#Stratified Train test split\n",
    "train_ind, test_ind=next(sss.split(X_data, y_data))\n",
    "X_train=X_data[train_ind]\n",
    "X_test=X_data[test_ind]\n",
    "y_train=y_data[train_ind]\n",
    "y_test=y_data[test_ind]"
   ]
  },
  {
   "cell_type": "code",
   "execution_count": 252,
   "metadata": {},
   "outputs": [
    {
     "data": {
      "text/plain": [
       "0    0.865897\n",
       "1    0.134103\n",
       "Name: Spam or Ham, dtype: float64"
      ]
     },
     "execution_count": 252,
     "metadata": {},
     "output_type": "execute_result"
    }
   ],
   "source": [
    "y_train.value_counts(normalize=True)"
   ]
  },
  {
   "cell_type": "code",
   "execution_count": 227,
   "metadata": {},
   "outputs": [],
   "source": [
    "#Convert to categorical\n",
    "#y_train = tensorflow.keras.utils.to_categorical(y_train, num_classes)\n",
    "#y_test = tensorflow.keras.utils.to_categorical(y_test, num_classes)"
   ]
  },
  {
   "cell_type": "code",
   "execution_count": 253,
   "metadata": {},
   "outputs": [
    {
     "name": "stdout",
     "output_type": "stream",
     "text": [
      "x_train shape: (3900, 15)\n",
      "x_test shape: (1672, 15)\n"
     ]
    }
   ],
   "source": [
    "#Engenieering the sequences\n",
    "X_train = sequence.pad_sequences(X_train, maxlen=maxlen)\n",
    "X_test = sequence.pad_sequences(X_test, maxlen=maxlen)\n",
    "print('x_train shape:', X_train.shape)\n",
    "print('x_test shape:', X_test.shape)"
   ]
  },
  {
   "cell_type": "code",
   "execution_count": 254,
   "metadata": {},
   "outputs": [
    {
     "data": {
      "text/plain": [
       "array([  4,  89,  89, 770, 284,   1,  89, 606,   1, 336,  89, 783, 186,\n",
       "         1, 186])"
      ]
     },
     "execution_count": 254,
     "metadata": {},
     "output_type": "execute_result"
    }
   ],
   "source": [
    "#example of the sequence\n",
    "X_train[123,:]"
   ]
  },
  {
   "cell_type": "code",
   "execution_count": 255,
   "metadata": {},
   "outputs": [
    {
     "data": {
      "text/plain": [
       "(1672,)"
      ]
     },
     "execution_count": 255,
     "metadata": {},
     "output_type": "execute_result"
    }
   ],
   "source": [
    "y_test.shape"
   ]
  },
  {
   "cell_type": "markdown",
   "metadata": {},
   "source": [
    "### Finally I can build a recurrent neural network"
   ]
  },
  {
   "cell_type": "code",
   "execution_count": 256,
   "metadata": {},
   "outputs": [
    {
     "data": {
      "text/plain": [
       "(15,)"
      ]
     },
     "execution_count": 256,
     "metadata": {},
     "output_type": "execute_result"
    }
   ],
   "source": [
    "X_train.shape[1:]"
   ]
  },
  {
   "cell_type": "code",
   "execution_count": 257,
   "metadata": {},
   "outputs": [],
   "source": [
    "rnn_hidden_dim = 5\n",
    "word_embedding_dim = 70\n",
    "model_rnn = Sequential()\n",
    "model_rnn.add(Embedding(max_features, word_embedding_dim))  #This layer takes each integer in the sequence\n",
    "model_rnn.add(SimpleRNN(rnn_hidden_dim,\n",
    "                    kernel_initializer=initializers.RandomNormal(stddev=0.001),\n",
    "                    recurrent_initializer=initializers.Identity(gain=1.0),\n",
    "                    activation='relu',\n",
    "                    input_shape=X_train.shape[1:]))\n",
    "\n",
    "model_rnn.add(Dense(1, activation='sigmoid'))"
   ]
  },
  {
   "cell_type": "code",
   "execution_count": 258,
   "metadata": {},
   "outputs": [
    {
     "name": "stdout",
     "output_type": "stream",
     "text": [
      "Model: \"sequential_4\"\n",
      "_________________________________________________________________\n",
      "Layer (type)                 Output Shape              Param #   \n",
      "=================================================================\n",
      "embedding_4 (Embedding)      (None, None, 70)          350000    \n",
      "_________________________________________________________________\n",
      "simple_rnn_4 (SimpleRNN)     (None, 5)                 380       \n",
      "_________________________________________________________________\n",
      "dense_4 (Dense)              (None, 1)                 6         \n",
      "=================================================================\n",
      "Total params: 350,386\n",
      "Trainable params: 350,386\n",
      "Non-trainable params: 0\n",
      "_________________________________________________________________\n"
     ]
    }
   ],
   "source": [
    "model_rnn.summary()"
   ]
  },
  {
   "cell_type": "code",
   "execution_count": 259,
   "metadata": {},
   "outputs": [],
   "source": [
    "#Compiling the mode;\n",
    "rmsprop = keras.optimizers.RMSprop(learning_rate = .0001)\n",
    "\n",
    "model_rnn.compile(loss='binary_crossentropy',\n",
    "              optimizer=rmsprop,\n",
    "              metrics=['accuracy'])"
   ]
  },
  {
   "cell_type": "code",
   "execution_count": 260,
   "metadata": {},
   "outputs": [
    {
     "name": "stdout",
     "output_type": "stream",
     "text": [
      "Epoch 1/20\n",
      "122/122 [==============================] - 2s 7ms/step - loss: 0.5931 - accuracy: 0.8636 - val_loss: 0.4805 - val_accuracy: 0.8660\n",
      "Epoch 2/20\n",
      "122/122 [==============================] - 1s 5ms/step - loss: 0.3852 - accuracy: 0.8744 - val_loss: 0.3034 - val_accuracy: 0.8900\n",
      "Epoch 3/20\n",
      "122/122 [==============================] - 1s 5ms/step - loss: 0.2798 - accuracy: 0.8972 - val_loss: 0.2461 - val_accuracy: 0.9181\n",
      "Epoch 4/20\n",
      "122/122 [==============================] - 1s 5ms/step - loss: 0.2379 - accuracy: 0.9177 - val_loss: 0.2125 - val_accuracy: 0.9312\n",
      "Epoch 5/20\n",
      "122/122 [==============================] - 1s 5ms/step - loss: 0.2102 - accuracy: 0.9321 - val_loss: 0.1922 - val_accuracy: 0.9396\n",
      "Epoch 6/20\n",
      "122/122 [==============================] - 1s 5ms/step - loss: 0.1936 - accuracy: 0.9405 - val_loss: 0.1839 - val_accuracy: 0.9480\n",
      "Epoch 7/20\n",
      "122/122 [==============================] - 1s 5ms/step - loss: 0.1851 - accuracy: 0.9456 - val_loss: 0.1776 - val_accuracy: 0.9486\n",
      "Epoch 8/20\n",
      "122/122 [==============================] - 1s 5ms/step - loss: 0.1805 - accuracy: 0.9467 - val_loss: 0.1748 - val_accuracy: 0.9486\n",
      "Epoch 9/20\n",
      "122/122 [==============================] - 1s 5ms/step - loss: 0.1775 - accuracy: 0.9462 - val_loss: 0.1732 - val_accuracy: 0.9486\n",
      "Epoch 10/20\n",
      "122/122 [==============================] - 1s 5ms/step - loss: 0.1750 - accuracy: 0.9464 - val_loss: 0.1769 - val_accuracy: 0.9498\n",
      "Epoch 11/20\n",
      "122/122 [==============================] - 1s 5ms/step - loss: 0.1738 - accuracy: 0.9472 - val_loss: 0.1710 - val_accuracy: 0.9486\n",
      "Epoch 12/20\n",
      "122/122 [==============================] - 1s 5ms/step - loss: 0.1724 - accuracy: 0.9474 - val_loss: 0.1713 - val_accuracy: 0.9498\n",
      "Epoch 13/20\n",
      "122/122 [==============================] - 1s 5ms/step - loss: 0.1714 - accuracy: 0.9472 - val_loss: 0.1707 - val_accuracy: 0.9498\n",
      "Epoch 14/20\n",
      "122/122 [==============================] - 1s 5ms/step - loss: 0.1705 - accuracy: 0.9479 - val_loss: 0.1689 - val_accuracy: 0.9480\n",
      "Epoch 15/20\n",
      "122/122 [==============================] - 1s 5ms/step - loss: 0.1699 - accuracy: 0.9482 - val_loss: 0.1687 - val_accuracy: 0.9492\n",
      "Epoch 16/20\n",
      "122/122 [==============================] - 1s 5ms/step - loss: 0.1691 - accuracy: 0.9487 - val_loss: 0.1682 - val_accuracy: 0.9492\n",
      "Epoch 17/20\n",
      "122/122 [==============================] - 1s 5ms/step - loss: 0.1688 - accuracy: 0.9487 - val_loss: 0.1697 - val_accuracy: 0.9522\n",
      "Epoch 18/20\n",
      "122/122 [==============================] - 1s 5ms/step - loss: 0.1670 - accuracy: 0.9492 - val_loss: 0.1671 - val_accuracy: 0.9498\n",
      "Epoch 19/20\n",
      "122/122 [==============================] - 1s 5ms/step - loss: 0.1675 - accuracy: 0.9492 - val_loss: 0.1673 - val_accuracy: 0.9498\n",
      "Epoch 20/20\n",
      "122/122 [==============================] - 1s 5ms/step - loss: 0.1670 - accuracy: 0.9497 - val_loss: 0.1703 - val_accuracy: 0.9522\n"
     ]
    },
    {
     "data": {
      "text/plain": [
       "<tensorflow.python.keras.callbacks.History at 0x295d577f7c0>"
      ]
     },
     "execution_count": 260,
     "metadata": {},
     "output_type": "execute_result"
    }
   ],
   "source": [
    "model_rnn.fit(X_train, y_train,\n",
    "          batch_size=batch_size,\n",
    "          epochs=20,\n",
    "          validation_data=(X_test, y_test))"
   ]
  },
  {
   "cell_type": "code",
   "execution_count": 261,
   "metadata": {},
   "outputs": [
    {
     "name": "stdout",
     "output_type": "stream",
     "text": [
      "53/53 [==============================] - 0s 2ms/step - loss: 0.1703 - accuracy: 0.9522\n",
      "Performance of the model\n",
      " Validation set: Loss is 0.1703, accuracy is 0.9522\n"
     ]
    }
   ],
   "source": [
    "scores=model_rnn.evaluate(X_test,y_test)\n",
    "print('Performance of the model\\n Validation set: Loss is {:.4f}, accuracy is {:.4f}'.format(scores[0],scores[1]) )"
   ]
  },
  {
   "cell_type": "code",
   "execution_count": 262,
   "metadata": {},
   "outputs": [
    {
     "data": {
      "text/plain": [
       "1111"
      ]
     },
     "execution_count": 262,
     "metadata": {},
     "output_type": "execute_result"
    }
   ],
   "source": [
    "#Prediction check\n",
    "y_pred=model_rnn.predict(X_test)\n",
    "np.argmax(y_pred)"
   ]
  },
  {
   "cell_type": "code",
   "execution_count": 263,
   "metadata": {},
   "outputs": [
    {
     "data": {
      "text/plain": [
       "array([0.9999635], dtype=float32)"
      ]
     },
     "execution_count": 263,
     "metadata": {},
     "output_type": "execute_result"
    }
   ],
   "source": [
    "y_pred[1111]"
   ]
  },
  {
   "cell_type": "code",
   "execution_count": 266,
   "metadata": {},
   "outputs": [],
   "source": [
    "#Convert the classes to 0 and 1 (y_pred_2 is a new variable here)\n",
    "y_pred_2=[]\n",
    "for y_pred_i in y_pred:\n",
    "    if y_pred_i >=0.5:\n",
    "        y_pred_2.append(1)\n",
    "    elif y_pred_i < 0.5:\n",
    "        y_pred_2.append(0)"
   ]
  },
  {
   "cell_type": "code",
   "execution_count": 268,
   "metadata": {},
   "outputs": [
    {
     "data": {
      "text/plain": [
       "0.9521531100478469"
      ]
     },
     "execution_count": 268,
     "metadata": {},
     "output_type": "execute_result"
    }
   ],
   "source": [
    "accuracy_score(y_test,y_pred_2)"
   ]
  },
  {
   "cell_type": "code",
   "execution_count": 270,
   "metadata": {},
   "outputs": [
    {
     "name": "stdout",
     "output_type": "stream",
     "text": [
      "              precision    recall  f1-score   support\n",
      "\n",
      "           0       0.96      0.99      0.97      1448\n",
      "           1       0.90      0.72      0.80       224\n",
      "\n",
      "    accuracy                           0.95      1672\n",
      "   macro avg       0.93      0.85      0.89      1672\n",
      "weighted avg       0.95      0.95      0.95      1672\n",
      "\n"
     ]
    }
   ],
   "source": [
    "print(classification_report(y_test,y_pred_2))"
   ]
  },
  {
   "cell_type": "code",
   "execution_count": 278,
   "metadata": {},
   "outputs": [
    {
     "data": {
      "text/plain": [
       "Text(0.5, 1.0, 'Confusion matrix of SPAM determination with neural networks')"
      ]
     },
     "execution_count": 278,
     "metadata": {},
     "output_type": "execute_result"
    },
    {
     "data": {
      "image/png": "[encoded data removed]",
      "text/plain": [
       "<Figure size 576x576 with 2 Axes>"
      ]
     },
     "metadata": {
      "needs_background": "light"
     },
     "output_type": "display_data"
    }
   ],
   "source": [
    "#Determine finally the confusion matrix and plot it\n",
    "conf_matrix=confusion_matrix(y_test,y_pred_2)\n",
    "_, ax = plt.subplots(figsize=(8,8))\n",
    "ax=sns.heatmap(conf_matrix,cmap=\"YlGnBu\",annot=True, fmt='d',annot_kws={\"size\": 25, \"weight\": \"bold\"})\n",
    "ax.set_title('Confusion matrix of SPAM determination with neural networks',fontsize=18)"
   ]
  },
  {
   "cell_type": "code",
   "execution_count": 303,
   "metadata": {},
   "outputs": [
    {
     "data": {
      "image/png": "[encoded data removed]",
      "text/plain": [
       "<Figure size 432x288 with 1 Axes>"
      ]
     },
     "metadata": {},
     "output_type": "display_data"
    }
   ],
   "source": [
    "precision, recall,_=precision_recall_curve(y_test,y_pred)\n",
    "#Preciosion recall curve\n",
    "sns.set_context('talk')\n",
    "sns.set_style('dark')\n",
    "plt.plot(recall,precision)\n",
    "plt.plot([0, 1], [1, 0], 'k--', linewidth=1)  # roc curve for random model\n",
    "plt.title('Precision recall curve')\n",
    "plt.xlabel('Recall')\n",
    "plt.ylabel('Precision')\n",
    "plt.grid(True)"
   ]
  },
  {
   "cell_type": "code",
   "execution_count": 296,
   "metadata": {},
   "outputs": [
    {
     "data": {
      "text/plain": [
       "[Text(0.5, 1.0, 'ROC Curve for Deep Learning model on Spam determination'),\n",
       " (-0.01, 1.01),\n",
       " (-0.01, 1.01)]"
      ]
     },
     "execution_count": 296,
     "metadata": {},
     "output_type": "execute_result"
    },
    {
     "data": {
      "image/png": "[encoded data removed]",
      "text/plain": [
       "<Figure size 432x432 with 1 Axes>"
      ]
     },
     "metadata": {},
     "output_type": "display_data"
    }
   ],
   "source": [
    "#ROC AUC curve\n",
    "fpr, tpr, _ = roc_curve(y_test, y_pred)\n",
    "fig, ax = plt.subplots(figsize=(6, 6))\n",
    "ax.plot(fpr, tpr, 'k-')\n",
    "ax.plot([0, 1], [0, 1], 'k--', linewidth=.5)  # roc curve for random model\n",
    "ax.grid(True)\n",
    "ax.set(title='ROC Curve for Deep Learning model on Spam determination',\n",
    "           xlim=[-0.01, 1.01], ylim=[-0.01, 1.01])"
   ]
  },
  {
   "cell_type": "code",
   "execution_count": null,
   "metadata": {},
   "outputs": [],
   "source": [
    "\n"
   ]
  }
 ],
 "metadata": {
  "kernelspec": {
   "display_name": "Python 3",
   "language": "python",
   "name": "python3"
  },
  "language_info": {
   "codemirror_mode": {
    "name": "ipython",
    "version": 3
   },
   "file_extension": ".py",
   "mimetype": "text/x-python",
   "name": "python",
   "nbconvert_exporter": "python",
   "pygments_lexer": "ipython3",
   "version": "3.8.5"
  }
 },
 "nbformat": 4,
 "nbformat_minor": 4
}
